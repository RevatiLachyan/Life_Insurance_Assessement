{
 "cells": [
  {
   "cell_type": "markdown",
   "id": "5f0904c8",
   "metadata": {},
   "source": [
    "# Prudential Life Insurance Dataset"
   ]
  },
  {
   "cell_type": "code",
   "execution_count": null,
   "id": "adcde6be",
   "metadata": {},
   "outputs": [],
   "source": [
    "# importing libraries\n",
    "import pandas as pd\n",
    "import numpy as np\n",
    "import matplotlib.pyplot as plt\n",
    "import seaborn as sns\n",
    "\n",
    "import warnings\n",
    "warnings.filterwarnings('ignore')"
   ]
  },
  {
   "cell_type": "code",
   "execution_count": null,
   "id": "5604ce44",
   "metadata": {},
   "outputs": [],
   "source": [
    "#loading dataset\n",
    "df = pd.read_csv('prudential-life-insurance-assessment/train.csv')"
   ]
  },
  {
   "cell_type": "markdown",
   "id": "5680ef14",
   "metadata": {},
   "source": [
    "# Data Exploration \n",
    "### The following variables are all categorical (nominal):\n",
    "\n",
    "Product_Info_1, Product_Info_2, Product_Info_3, Product_Info_5, Product_Info_6, Product_Info_7, Employment_Info_2, Employment_Info_3, Employment_Info_5, InsuredInfo_1, InsuredInfo_2, InsuredInfo_3, InsuredInfo_4, InsuredInfo_5, InsuredInfo_6, InsuredInfo_7, Insurance_History_1, Insurance_History_2, Insurance_History_3, Insurance_History_4, Insurance_History_7, Insurance_History_8, Insurance_History_9, Family_Hist_1, Medical_History_2, Medical_History_3, Medical_History_4, Medical_History_5, Medical_History_6, Medical_History_7, Medical_History_8, Medical_History_9, Medical_History_11, Medical_History_12, Medical_History_13, Medical_History_14, Medical_History_16, Medical_History_17, Medical_History_18, Medical_History_19, Medical_History_20, Medical_History_21, Medical_History_22, Medical_History_23, Medical_History_25, Medical_History_26, Medical_History_27, Medical_History_28, Medical_History_29, Medical_History_30, Medical_History_31, Medical_History_33, Medical_History_34, Medical_History_35, Medical_History_36, Medical_History_37, Medical_History_38, Medical_History_39, Medical_History_40, Medical_History_41\n",
    "\n",
    "### The following variables are continuous:\n",
    "\n",
    "Product_Info_4, Ins_Age, Ht, Wt, BMI, Employment_Info_1, Employment_Info_4, Employment_Info_6, Insurance_History_5, Family_Hist_2, Family_Hist_3, Family_Hist_4, Family_Hist_5\n",
    "\n",
    "### The following variables are discrete:\n",
    "\n",
    "Medical_History_1, Medical_History_10, Medical_History_15, Medical_History_24, Medical_History_32\n",
    "\n",
    "### Medical_Keyword_1-48 are dummy variables."
   ]
  },
  {
   "cell_type": "markdown",
   "id": "fd114970",
   "metadata": {},
   "source": [
    "### Understanding the data"
   ]
  },
  {
   "cell_type": "code",
   "execution_count": null,
   "id": "5b90e083",
   "metadata": {},
   "outputs": [],
   "source": [
    "df.shape"
   ]
  },
  {
   "cell_type": "code",
   "execution_count": null,
   "id": "dca03d61",
   "metadata": {},
   "outputs": [],
   "source": [
    "df.tail()"
   ]
  },
  {
   "cell_type": "code",
   "execution_count": null,
   "id": "adece43f",
   "metadata": {},
   "outputs": [],
   "source": [
    "df.info()"
   ]
  },
  {
   "cell_type": "markdown",
   "id": "c4f341f3",
   "metadata": {},
   "source": [
    "## Determine columns contain nulls values\n",
    "### Summarise how many missing values are present in each column"
   ]
  },
  {
   "cell_type": "code",
   "execution_count": null,
   "id": "248d7828",
   "metadata": {},
   "outputs": [],
   "source": [
    "cols_with_nan = [col for col in df.columns\n",
    "                     if df[col].isnull().any()]\n",
    "\n",
    "\n",
    "df[cols_with_nan].isna().sum()"
   ]
  },
  {
   "cell_type": "markdown",
   "id": "4463d4fa",
   "metadata": {},
   "source": [
    "### Converting the number of null values in columns to percentage"
   ]
  },
  {
   "cell_type": "code",
   "execution_count": null,
   "id": "9ded61b8",
   "metadata": {},
   "outputs": [],
   "source": [
    "percent_missing = df.isnull().sum() * 100 / len(df)\n",
    "list_to_drop = []\n",
    "for col, percentage in zip(df.columns, percent_missing):\n",
    "    if percentage != 0 and percentage > 30:\n",
    "        list_to_drop.append(col)"
   ]
  },
  {
   "cell_type": "markdown",
   "id": "5dc699eb",
   "metadata": {},
   "source": [
    "### Filtering columns with null values < than 30%"
   ]
  },
  {
   "cell_type": "code",
   "execution_count": null,
   "id": "066bc986",
   "metadata": {},
   "outputs": [],
   "source": [
    "print(list_to_drop)\n",
    "df.drop(list_to_drop, axis = 1, inplace= True)"
   ]
  },
  {
   "cell_type": "code",
   "execution_count": null,
   "id": "711b811b",
   "metadata": {},
   "outputs": [],
   "source": [
    "df"
   ]
  },
  {
   "cell_type": "markdown",
   "id": "3daceb81",
   "metadata": {},
   "source": [
    "### Set Id as index and drop the column Id"
   ]
  },
  {
   "cell_type": "code",
   "execution_count": null,
   "id": "f81037fc",
   "metadata": {},
   "outputs": [],
   "source": [
    "df.set_index(df['Id'], inplace=True)"
   ]
  },
  {
   "cell_type": "code",
   "execution_count": null,
   "id": "2bc4c13e",
   "metadata": {},
   "outputs": [],
   "source": [
    "df.drop(['Id'], axis = 1, inplace=True)"
   ]
  },
  {
   "cell_type": "code",
   "execution_count": null,
   "id": "319f4a24",
   "metadata": {},
   "outputs": [],
   "source": [
    "\n",
    "df"
   ]
  },
  {
   "cell_type": "code",
   "execution_count": null,
   "id": "965ef8a9",
   "metadata": {},
   "outputs": [],
   "source": [
    "numOfCol = df.columns.size\n",
    "print(numOfCol)"
   ]
  },
  {
   "cell_type": "markdown",
   "id": "7169fb7e",
   "metadata": {},
   "source": [
    "### Columns in new Dataframe with null values "
   ]
  },
  {
   "cell_type": "code",
   "execution_count": null,
   "id": "8ad60788",
   "metadata": {},
   "outputs": [],
   "source": [
    "cols_with_nan = [col for col in df.columns\n",
    "                     if df[col].isnull().any()]\n",
    "\n",
    "df[cols_with_nan].isna().sum()"
   ]
  },
  {
   "cell_type": "markdown",
   "id": "fbde6a4b",
   "metadata": {},
   "source": [
    "### Imputing null value Columns"
   ]
  },
  {
   "cell_type": "code",
   "execution_count": null,
   "id": "82b912d6",
   "metadata": {},
   "outputs": [],
   "source": [
    "columns_to_be_imputed = ['Employment_Info_1', 'Employment_Info_4', 'Employment_Info_6', 'Medical_History_1']"
   ]
  },
  {
   "cell_type": "code",
   "execution_count": null,
   "id": "8ea54ce2",
   "metadata": {},
   "outputs": [],
   "source": [
    "df['Employment_Info_1'].unique()"
   ]
  },
  {
   "cell_type": "code",
   "execution_count": null,
   "id": "eef6dbd5",
   "metadata": {},
   "outputs": [],
   "source": [
    "# mean is highly influenced by outliers, so going with median to impute the missing data\n",
    "plt.plot(figsize=(20,10))\n",
    "sns.boxplot(df['Employment_Info_1'])"
   ]
  },
  {
   "cell_type": "code",
   "execution_count": null,
   "id": "b94ca875",
   "metadata": {},
   "outputs": [],
   "source": [
    "sns.distplot(df['Employment_Info_1'])"
   ]
  },
  {
   "cell_type": "code",
   "execution_count": null,
   "id": "d0689a3e",
   "metadata": {},
   "outputs": [],
   "source": [
    "(df['Employment_Info_4'].unique())"
   ]
  },
  {
   "cell_type": "code",
   "execution_count": null,
   "id": "2f897edc",
   "metadata": {},
   "outputs": [],
   "source": [
    "sns.boxplot(df['Employment_Info_4'])"
   ]
  },
  {
   "cell_type": "code",
   "execution_count": null,
   "id": "1d5bcc59",
   "metadata": {},
   "outputs": [],
   "source": [
    "sns.distplot(df['Employment_Info_4'])"
   ]
  },
  {
   "cell_type": "code",
   "execution_count": null,
   "id": "a3879581",
   "metadata": {},
   "outputs": [],
   "source": [
    "df['Employment_Info_6'].unique()"
   ]
  },
  {
   "cell_type": "code",
   "execution_count": null,
   "id": "cc73a2b6",
   "metadata": {},
   "outputs": [],
   "source": [
    "sns.boxplot(df['Employment_Info_6'])"
   ]
  },
  {
   "cell_type": "code",
   "execution_count": null,
   "id": "d2399025",
   "metadata": {},
   "outputs": [],
   "source": [
    "sns.distplot(df['Employment_Info_6'])"
   ]
  },
  {
   "cell_type": "code",
   "execution_count": null,
   "id": "da1a6924",
   "metadata": {},
   "outputs": [],
   "source": [
    "df['Medical_History_1'].unique() # -- discrete"
   ]
  },
  {
   "cell_type": "code",
   "execution_count": null,
   "id": "a4cbf8a0",
   "metadata": {},
   "outputs": [],
   "source": [
    "sns.boxplot(df['Medical_History_1'])"
   ]
  },
  {
   "cell_type": "code",
   "execution_count": null,
   "id": "b09159e2",
   "metadata": {},
   "outputs": [],
   "source": [
    "sns.distplot(df['Medical_History_1'])"
   ]
  },
  {
   "cell_type": "markdown",
   "id": "8c06f9ea",
   "metadata": {},
   "source": [
    "##  Using mean/median imputation according to the outliers"
   ]
  },
  {
   "cell_type": "code",
   "execution_count": null,
   "id": "cd50740a",
   "metadata": {},
   "outputs": [],
   "source": [
    "for i in range(len(columns_to_be_imputed)):\n",
    "    if not columns_to_be_imputed[i] == 'Employment_Info_6':\n",
    "        df[columns_to_be_imputed[i]] = df[columns_to_be_imputed[i]].fillna(df[columns_to_be_imputed[i]].median())\n",
    "    else:\n",
    "        df[columns_to_be_imputed[i]] = df[columns_to_be_imputed[i]].fillna(df[columns_to_be_imputed[i]].mean())    "
   ]
  },
  {
   "cell_type": "code",
   "execution_count": null,
   "id": "80d0adf8",
   "metadata": {},
   "outputs": [],
   "source": [
    "cols_with_nan = [col for col in df.columns\n",
    "                     if df[col].isnull().any()]\n",
    "\n",
    "df[cols_with_nan].isna().sum()"
   ]
  },
  {
   "cell_type": "markdown",
   "id": "e7bc34b9",
   "metadata": {},
   "source": [
    "### Converting Remaining Categorical Columns Using One-Hot Encoding"
   ]
  },
  {
   "cell_type": "code",
   "execution_count": null,
   "id": "a880cd47",
   "metadata": {},
   "outputs": [],
   "source": [
    "categorical_Col =  [col for col in df.columns if df[col].dtype =='object']\n",
    "print('categorical columns:::', categorical_Col)"
   ]
  },
  {
   "cell_type": "code",
   "execution_count": null,
   "id": "d2502e6f",
   "metadata": {},
   "outputs": [],
   "source": [
    "print(df['Product_Info_2'].unique())"
   ]
  },
  {
   "cell_type": "code",
   "execution_count": null,
   "id": "e79540f3",
   "metadata": {},
   "outputs": [],
   "source": [
    "df = pd.get_dummies(df, columns=['Product_Info_2'])\n",
    "df"
   ]
  },
  {
   "cell_type": "markdown",
   "id": "2712b79a",
   "metadata": {},
   "source": [
    "### Deterimining Correlation and Multicollinearility Between Numerical Columns"
   ]
  },
  {
   "cell_type": "code",
   "execution_count": null,
   "id": "b9acb45a",
   "metadata": {},
   "outputs": [],
   "source": [
    "df[['Ht', 'Wt', 'BMI', 'Product_Info_4', 'Ins_Age', 'Employment_Info_1', 'Employment_Info_4', 'Employment_Info_6']].corr()"
   ]
  },
  {
   "cell_type": "code",
   "execution_count": null,
   "id": "db607288",
   "metadata": {},
   "outputs": [],
   "source": [
    "plt.scatter(x=df['BMI'], y=df['Wt'])"
   ]
  },
  {
   "cell_type": "code",
   "execution_count": null,
   "id": "770309e2",
   "metadata": {},
   "outputs": [],
   "source": [
    "# can drop Weight column, which is highly correlated with BMI\n",
    "df.drop(['Wt'], inplace=True, axis = 1)\n",
    "df"
   ]
  },
  {
   "cell_type": "markdown",
   "id": "a6620fff",
   "metadata": {},
   "source": [
    "### Reducing Columns - Dimensionality Reduction"
   ]
  },
  {
   "cell_type": "code",
   "execution_count": null,
   "id": "08c6f99a",
   "metadata": {},
   "outputs": [],
   "source": [
    "df.columns.get_loc(\"Medical_Keyword_1\")"
   ]
  },
  {
   "cell_type": "code",
   "execution_count": null,
   "id": "e27fa5b6",
   "metadata": {},
   "outputs": [],
   "source": [
    "df.columns.get_loc(\"Medical_Keyword_48\")"
   ]
  },
  {
   "cell_type": "markdown",
   "id": "db5b75a4",
   "metadata": {},
   "source": [
    "## Summing all Medical_Keyword Columns into one column\n",
    "### (instead of dropping all columns with less values converting into one to preserve important details for categorical variables)"
   ]
  },
  {
   "cell_type": "code",
   "execution_count": null,
   "id": "647d5409",
   "metadata": {},
   "outputs": [],
   "source": [
    "df['Medical_Keyword']=df.iloc[:,67:114].sum(axis=1)\n",
    "df"
   ]
  },
  {
   "cell_type": "code",
   "execution_count": null,
   "id": "89636899",
   "metadata": {},
   "outputs": [],
   "source": [
    "# drop all Medical_Keyword columns\n",
    "df.drop(df.iloc[:,67:114], inplace=True, axis = 1)\n",
    "df"
   ]
  },
  {
   "cell_type": "code",
   "execution_count": null,
   "id": "32e60858",
   "metadata": {},
   "outputs": [],
   "source": [
    "sns.set_color_codes()\n",
    "sns.countplot(x=df['Response'])\n",
    "print(df['Response'].value_counts())"
   ]
  },
  {
   "cell_type": "markdown",
   "id": "5b82317d",
   "metadata": {},
   "source": [
    "### Feature Selection Using Mutual Information"
   ]
  },
  {
   "cell_type": "code",
   "execution_count": null,
   "id": "93ca16dc",
   "metadata": {},
   "outputs": [],
   "source": [
    "# import the mutual_info_classif() \n",
    "from sklearn.feature_selection import mutual_info_classif"
   ]
  },
  {
   "cell_type": "code",
   "execution_count": null,
   "id": "d8888bbc",
   "metadata": {},
   "outputs": [],
   "source": [
    "#function to calculate MI scores\n",
    "def cal_mi_scores(X, y):\n",
    "    mi_score = mutual_info_classif(X, y)\n",
    "    mi_score = pd.Series(mi_score, name=\"MI Scores\", index=X.columns)\n",
    "    mi_score = mi_score.sort_values(ascending=False)\n",
    "    return mi_score"
   ]
  },
  {
   "cell_type": "code",
   "execution_count": null,
   "id": "b4b6e6e5",
   "metadata": {},
   "outputs": [],
   "source": [
    "#function for plotting mi_scores\n",
    "def viz_mi_scores(scores):\n",
    "    scores = scores.sort_values(ascending=True)\n",
    "    width = np.arange(len(scores))\n",
    "    ticks = list(scores.index)\n",
    "    plt.barh(width, scores)\n",
    "    plt.yticks(width, ticks)\n",
    "    plt.title(\"Mutual Information Scores of Columns\")"
   ]
  },
  {
   "cell_type": "code",
   "execution_count": null,
   "id": "6f39b967",
   "metadata": {},
   "outputs": [],
   "source": [
    "# Calculate MI scores.\n",
    "mi_scores = cal_mi_scores(df.loc[:,df.columns != 'Response'], df.loc[:,'Response'])\n",
    "\n",
    "# Plot the MI scores obtained from the validation dataset.\n",
    "plt.figure(dpi=100, figsize=(20,50))\n",
    "viz_mi_scores(mi_scores)"
   ]
  },
  {
   "cell_type": "code",
   "execution_count": null,
   "id": "5444feb0",
   "metadata": {},
   "outputs": [],
   "source": [
    "list(zip(mi_scores.index, mi_scores))"
   ]
  },
  {
   "cell_type": "markdown",
   "id": "e17fcd91",
   "metadata": {},
   "source": [
    "## Feature selection using the MI score with threshold of 0.01"
   ]
  },
  {
   "cell_type": "code",
   "execution_count": null,
   "id": "2b4ad279",
   "metadata": {},
   "outputs": [],
   "source": [
    "updated_cols = list(mi_scores[mi_scores > 0.01].index)\n",
    "updated_cols.append('Response')\n",
    "print(updated_cols)\n",
    "len(updated_cols)"
   ]
  },
  {
   "cell_type": "code",
   "execution_count": null,
   "id": "25f27b63",
   "metadata": {},
   "outputs": [],
   "source": [
    "df = df[updated_cols]\n",
    "df"
   ]
  },
  {
   "cell_type": "code",
   "execution_count": null,
   "id": "de78e4f5",
   "metadata": {},
   "outputs": [],
   "source": [
    "X = df.loc[:, df.columns != 'Response']\n",
    "X"
   ]
  },
  {
   "cell_type": "markdown",
   "id": "019ff470",
   "metadata": {},
   "source": [
    "### Subtracting 1 from response to convert it into classes 0-7"
   ]
  },
  {
   "cell_type": "code",
   "execution_count": null,
   "id": "8b8da9d1",
   "metadata": {},
   "outputs": [],
   "source": [
    "y = df.loc[:,'Response']-1\n",
    "y"
   ]
  },
  {
   "cell_type": "markdown",
   "id": "551e7fec",
   "metadata": {},
   "source": [
    "## Normalization of Data"
   ]
  },
  {
   "cell_type": "code",
   "execution_count": null,
   "id": "f6994c72",
   "metadata": {},
   "outputs": [],
   "source": [
    "from sklearn.preprocessing import MinMaxScaler\n",
    "scaler = MinMaxScaler()\n",
    "X = pd.DataFrame(scaler.fit_transform(X), columns = X.columns)\n",
    "X"
   ]
  },
  {
   "cell_type": "code",
   "execution_count": null,
   "id": "79c67b43",
   "metadata": {},
   "outputs": [],
   "source": [
    "from sklearn.model_selection import train_test_split\n",
    "X_train, X_test, y_train, y_test = train_test_split(X, y, test_size=0.2)"
   ]
  },
  {
   "cell_type": "markdown",
   "id": "f8dfbefd",
   "metadata": {},
   "source": [
    "# Logistic Regression"
   ]
  },
  {
   "cell_type": "code",
   "execution_count": null,
   "id": "4c98f36c",
   "metadata": {},
   "outputs": [],
   "source": [
    "from sklearn.linear_model import LogisticRegression\n",
    "model = LogisticRegression(multi_class='ovr')\n",
    "model.fit(X_train, y_train)\n",
    "pred= model.predict(X_test)"
   ]
  },
  {
   "cell_type": "code",
   "execution_count": null,
   "id": "c1c22503",
   "metadata": {},
   "outputs": [],
   "source": [
    "from sklearn.metrics import confusion_matrix, ConfusionMatrixDisplay\n",
    "cm = confusion_matrix(y_test, pred)\n",
    "disp = ConfusionMatrixDisplay(confusion_matrix=cm)\n",
    "\n",
    "disp.plot()"
   ]
  },
  {
   "cell_type": "code",
   "execution_count": null,
   "id": "915b57ae",
   "metadata": {},
   "outputs": [],
   "source": [
    "from sklearn.metrics import accuracy_score\n",
    "accuracy_score(pred, y_test)"
   ]
  },
  {
   "cell_type": "code",
   "execution_count": null,
   "id": "79e7e8f5",
   "metadata": {},
   "outputs": [],
   "source": [
    "from sklearn.metrics import classification_report\n",
    "print(classification_report(y_test, pred))"
   ]
  },
  {
   "cell_type": "code",
   "execution_count": null,
   "id": "8f0ba279",
   "metadata": {},
   "outputs": [],
   "source": [
    "list(zip(X_test.columns, model.coef_[0]))"
   ]
  },
  {
   "cell_type": "markdown",
   "id": "dc28ff2a",
   "metadata": {},
   "source": [
    "### Important Features in Logistic Regression Model"
   ]
  },
  {
   "cell_type": "code",
   "execution_count": null,
   "id": "50c05927",
   "metadata": {},
   "outputs": [],
   "source": [
    "f_i = list(zip(X_test.columns, model.coef_[0]))\n",
    "f_i.sort(key = lambda x : x[1])\n",
    "plt.barh([x[0] for x in f_i],[x[1] for x in f_i])\n",
    "plt.show()"
   ]
  },
  {
   "cell_type": "markdown",
   "id": "dd91edb1",
   "metadata": {},
   "source": [
    "# Decision Tree"
   ]
  },
  {
   "cell_type": "code",
   "execution_count": null,
   "id": "1a79b4e0",
   "metadata": {},
   "outputs": [],
   "source": [
    "from sklearn.tree import DecisionTreeClassifier\n",
    "dtc = DecisionTreeClassifier(max_depth=)\n",
    "dtc.fit(X_train,y_train)"
   ]
  },
  {
   "cell_type": "code",
   "execution_count": null,
   "id": "69f222e1",
   "metadata": {},
   "outputs": [],
   "source": [
    "from sklearn import tree\n",
    "import graphviz\n",
    "dot_data = tree.export_graphviz(dtc, out_file=None,\n",
    "                      filled=True,feature_names=X_train.columns,class_names=['1','2', '3', '4', '5', '6', '7', '8'], rounded=True,  \n",
    "                      special_characters=True)  \n",
    "graph = graphviz.Source(dot_data)  \n",
    "graph"
   ]
  },
  {
   "cell_type": "code",
   "execution_count": null,
   "id": "3ca14704",
   "metadata": {},
   "outputs": [],
   "source": [
    "pred = dtc.predict(X_test)\n",
    "confusion_matrix(y_test, pred)"
   ]
  },
  {
   "cell_type": "code",
   "execution_count": null,
   "id": "344de9c3",
   "metadata": {},
   "outputs": [],
   "source": [
    "pred = dtc.predict(X_test)\n",
    "confusion_matrix(y_test, pred)"
   ]
  },
  {
   "cell_type": "code",
   "execution_count": null,
   "id": "d465afb9",
   "metadata": {},
   "outputs": [],
   "source": [
    "accuracy_score(pred, y_test)"
   ]
  },
  {
   "cell_type": "code",
   "execution_count": null,
   "id": "cd5bb462",
   "metadata": {},
   "outputs": [],
   "source": [
    "accuracy_score(pred, y_test)"
   ]
  },
  {
   "cell_type": "code",
   "execution_count": null,
   "id": "43f0eae7",
   "metadata": {},
   "outputs": [],
   "source": [
    "print(classification_report(y_test, pred))"
   ]
  },
  {
   "cell_type": "code",
   "execution_count": null,
   "id": "585ef59b",
   "metadata": {},
   "outputs": [],
   "source": [
    "dtc2 = DecisionTreeClassifier(criterion='entropy')\n",
    "dtc2.fit(X_train,y_train)"
   ]
  },
  {
   "cell_type": "code",
   "execution_count": null,
   "id": "2bb2afc6",
   "metadata": {},
   "outputs": [],
   "source": [
    "pred2 = dtc2.predict(X_test)\n",
    "confusion_matrix(y_test, pred2)"
   ]
  },
  {
   "cell_type": "code",
   "execution_count": null,
   "id": "36d90c4b",
   "metadata": {},
   "outputs": [],
   "source": [
    "accuracy_score(pred2, y_test)"
   ]
  },
  {
   "cell_type": "code",
   "execution_count": null,
   "id": "68157940",
   "metadata": {},
   "outputs": [],
   "source": [
    "print(classification_report(y_test, pred2))"
   ]
  },
  {
   "cell_type": "markdown",
   "id": "d6dd27fd",
   "metadata": {},
   "source": [
    "# Random Forest Classification"
   ]
  },
  {
   "cell_type": "code",
   "execution_count": null,
   "id": "fa755dc9",
   "metadata": {},
   "outputs": [],
   "source": [
    "from sklearn.ensemble import RandomForestClassifier\n",
    "rfc = RandomForestClassifier()\n",
    "rfc.fit(X_train,y_train.values.ravel())"
   ]
  },
  {
   "cell_type": "code",
   "execution_count": null,
   "id": "95bb4744",
   "metadata": {},
   "outputs": [],
   "source": [
    "pred3 = rfc.predict(X_test)\n",
    "confusion_matrix(y_test, pred3)"
   ]
  },
  {
   "cell_type": "code",
   "execution_count": null,
   "id": "d7fe5f65",
   "metadata": {},
   "outputs": [],
   "source": [
    "accuracy_score(pred3, y_test)"
   ]
  },
  {
   "cell_type": "code",
   "execution_count": null,
   "id": "b4dd2204",
   "metadata": {},
   "outputs": [],
   "source": [
    "print(classification_report(y_test, pred3))"
   ]
  },
  {
   "cell_type": "markdown",
   "id": "2caf7a48",
   "metadata": {},
   "source": [
    "list(zip(X_test.columns,rfc.feature_importances_))"
   ]
  },
  {
   "cell_type": "markdown",
   "id": "d02b31c5",
   "metadata": {},
   "source": [
    "### Important Features in Random Forest Model"
   ]
  },
  {
   "cell_type": "code",
   "execution_count": null,
   "id": "a3020dbd",
   "metadata": {},
   "outputs": [],
   "source": [
    "f_i = list(zip(X_test.columns,rfc.feature_importances_))\n",
    "f_i.sort(key = lambda x : x[1])\n",
    "plt.barh([x[0] for x in f_i],[x[1] for x in f_i])\n",
    "plt.show()"
   ]
  },
  {
   "cell_type": "markdown",
   "id": "4b0018fe",
   "metadata": {},
   "source": [
    "# Regressors\n",
    "# XGBoost"
   ]
  },
  {
   "cell_type": "code",
   "execution_count": null,
   "id": "0a9d0258",
   "metadata": {},
   "outputs": [],
   "source": [
    "from xgboost import XGBRegressor\n",
    "xgb_model = XGBRegressor()\n",
    "xgb_model.fit(X_train, y_train)"
   ]
  },
  {
   "cell_type": "code",
   "execution_count": null,
   "id": "1c5402d0",
   "metadata": {},
   "outputs": [],
   "source": [
    "pred = xgb_model.predict(X_test)\n",
    "pred"
   ]
  },
  {
   "cell_type": "code",
   "execution_count": null,
   "id": "f9e4eb5b",
   "metadata": {},
   "outputs": [],
   "source": [
    "import math\n",
    "accuracy_score(y_test, [math.ceil(i) for i in pred])"
   ]
  },
  {
   "cell_type": "code",
   "execution_count": null,
   "id": "1b5a5074",
   "metadata": {},
   "outputs": [],
   "source": [
    "from sklearn.metrics import mean_squared_error, r2_score\n",
    "mean_squared_error(y_test, pred)"
   ]
  },
  {
   "cell_type": "code",
   "execution_count": null,
   "id": "ae2ff489",
   "metadata": {},
   "outputs": [],
   "source": [
    "r2_score(y_test, pred)"
   ]
  },
  {
   "cell_type": "code",
   "execution_count": null,
   "id": "b5fc8c43",
   "metadata": {},
   "outputs": [],
   "source": [
    "hpg = {\n",
    "        'learning_rate': [0.01, 0.1],\n",
    "        'max_depth': [3, 5, 7, 10],\n",
    "        'n_estimators' : [100, 200, 500],\n",
    "        'objective': ['reg:squarederror']\n",
    "}"
   ]
  },
  {
   "cell_type": "code",
   "execution_count": null,
   "id": "4cc1e196",
   "metadata": {},
   "outputs": [],
   "source": [
    "from sklearn.model_selection import GridSearchCV\n",
    "gsearch = GridSearchCV(estimator = xgb_model,\n",
    "                           param_grid = hpg,                        \n",
    "                           cv = 5,\n",
    "                           n_jobs = -1,\n",
    "                           verbose = 1)\n",
    "gsearch.fit(X_train,y_train)\n",
    "gsearch.best_params_"
   ]
  },
  {
   "cell_type": "code",
   "execution_count": null,
   "id": "d7d49a02",
   "metadata": {},
   "outputs": [],
   "source": [
    "xgb_model =  XGBRegressor(learning_rate=0.1, max_depth=3, n_estimators=500, objective='reg:squarederror')\n",
    "xgb_model.fit(X_train, y_train)"
   ]
  },
  {
   "cell_type": "code",
   "execution_count": null,
   "id": "7609d5ab",
   "metadata": {},
   "outputs": [],
   "source": [
    "pred = xgb_model.predict(X_test)\n",
    "pred"
   ]
  },
  {
   "cell_type": "code",
   "execution_count": null,
   "id": "04c31f5f",
   "metadata": {},
   "outputs": [],
   "source": [
    "accuracy_score(y_test, [math.ceil(i) for i in pred])"
   ]
  },
  {
   "cell_type": "code",
   "execution_count": null,
   "id": "c398178f",
   "metadata": {},
   "outputs": [],
   "source": [
    "mean_squared_error(y_test, pred)"
   ]
  },
  {
   "cell_type": "code",
   "execution_count": null,
   "id": "6cbbc95e",
   "metadata": {},
   "outputs": [],
   "source": [
    "r2_score(y_test, pred)"
   ]
  },
  {
   "cell_type": "markdown",
   "id": "f11b3f4f",
   "metadata": {},
   "source": [
    "# SVM Regression"
   ]
  },
  {
   "cell_type": "code",
   "execution_count": null,
   "id": "e14be6ad",
   "metadata": {},
   "outputs": [],
   "source": [
    "from sklearn import svm\n",
    "model = svm.SVR(kernel='linear', C= 0.1)\n",
    "model.fit(X_train, y_train)"
   ]
  },
  {
   "cell_type": "code",
   "execution_count": null,
   "id": "a425e058",
   "metadata": {},
   "outputs": [],
   "source": [
    "pred = model.predict(X_test)\n",
    "accuracy_score(y_test, [math.ceil(i) for i in pred])"
   ]
  },
  {
   "cell_type": "code",
   "execution_count": null,
   "id": "1a40dec0",
   "metadata": {},
   "outputs": [],
   "source": [
    "model = svm.SVR(kernel='linear', C= 1)\n",
    "model.fit(X_train, y_train)\n",
    "pred = model.predict(X_test)\n",
    "accuracy_score(y_test, [math.ceil(i) for i in pred])"
   ]
  },
  {
   "cell_type": "code",
   "execution_count": null,
   "id": "f9de882b",
   "metadata": {},
   "outputs": [],
   "source": [
    "model = svm.SVR(kernel='linear', C= 10)\n",
    "model.fit(X_train, y_train)\n",
    "pred = model.predict(X_test)\n",
    "accuracy_score(y_test, [math.ceil(i) for i in pred])"
   ]
  },
  {
   "cell_type": "code",
   "execution_count": null,
   "id": "846c5976",
   "metadata": {},
   "outputs": [],
   "source": [
    "model = svm.SVR(kernel='rbf', C= 0.1, gamma = 0.1)\n",
    "model.fit(X_train, y_train)\n",
    "pred = model.predict(X_test)\n",
    "accuracy_score(y_test, [math.ceil(i) for i in pred])"
   ]
  },
  {
   "cell_type": "code",
   "execution_count": null,
   "id": "035a693f",
   "metadata": {},
   "outputs": [],
   "source": [
    "model = svm.SVR(kernel='rbf', C= 0.1, gamma = 1)\n",
    "model.fit(X_train, y_train)\n",
    "pred = model.predict(X_test)\n",
    "accuracy_score(y_test, [math.ceil(i) for i in pred])"
   ]
  },
  {
   "cell_type": "code",
   "execution_count": null,
   "id": "1b1cce31",
   "metadata": {},
   "outputs": [],
   "source": [
    "model = svm.SVR(kernel='rbf', C= 1, gamma = 0.1)\n",
    "model.fit(X_train, y_train)\n",
    "pred = model.predict(X_test)\n",
    "accuracy_score(y_test, [math.ceil(i) for i in pred])"
   ]
  },
  {
   "cell_type": "code",
   "execution_count": null,
   "id": "addc4c3e",
   "metadata": {},
   "outputs": [],
   "source": [
    "model = svm.SVR(kernel='rbf', C= 1, gamma = 1)\n",
    "model.fit(X_train, y_train)\n",
    "pred = model.predict(X_test)\n",
    "accuracy_score(y_test, [math.ceil(i) for i in pred])"
   ]
  },
  {
   "cell_type": "code",
   "execution_count": null,
   "id": "5cab4a38",
   "metadata": {},
   "outputs": [],
   "source": [
    "model = svm.SVR(kernel='rbf', C= 10, gamma = 1)\n",
    "model.fit(X_train, y_train)\n",
    "pred = model.predict(X_test)\n",
    "accuracy_score(y_test, [math.ceil(i) for i in pred])"
   ]
  },
  {
   "cell_type": "code",
   "execution_count": null,
   "id": "8282afa8",
   "metadata": {},
   "outputs": [],
   "source": [
    "mean_squared_error(y_test, pred)"
   ]
  },
  {
   "cell_type": "code",
   "execution_count": null,
   "id": "c578d799",
   "metadata": {},
   "outputs": [],
   "source": [
    "r2_score(y_test, pred)"
   ]
  },
  {
   "cell_type": "markdown",
   "id": "5fb8ba8d",
   "metadata": {},
   "source": [
    "# Converting into binary classification problem"
   ]
  },
  {
   "cell_type": "code",
   "execution_count": null,
   "id": "ef81935e",
   "metadata": {},
   "outputs": [],
   "source": [
    "df"
   ]
  },
  {
   "cell_type": "code",
   "execution_count": null,
   "id": "9ba92806",
   "metadata": {},
   "outputs": [],
   "source": [
    "df['Updated_response'] = df['Response'].apply(lambda row: 1 if row == 8 else 0)\n",
    "df['Updated_response']"
   ]
  },
  {
   "cell_type": "code",
   "execution_count": null,
   "id": "29fc8e40",
   "metadata": {},
   "outputs": [],
   "source": [
    "df = df.drop(['Response'], axis = 1)"
   ]
  },
  {
   "cell_type": "code",
   "execution_count": null,
   "id": "e79331c2",
   "metadata": {},
   "outputs": [],
   "source": [
    "df"
   ]
  },
  {
   "cell_type": "code",
   "execution_count": null,
   "id": "1ac461f5",
   "metadata": {},
   "outputs": [],
   "source": [
    "X_train, X_test, y_train, y_test = train_test_split(df.iloc[:,:-1], df.iloc[:,-1], test_size=0.2)"
   ]
  },
  {
   "cell_type": "markdown",
   "id": "ef1a69b2",
   "metadata": {},
   "source": [
    "## Logistic Regression"
   ]
  },
  {
   "cell_type": "code",
   "execution_count": null,
   "id": "788ac6fa",
   "metadata": {},
   "outputs": [],
   "source": [
    "model = LogisticRegression()\n",
    "model.fit(X_train, y_train)\n",
    "pred= model.predict(X_test)"
   ]
  },
  {
   "cell_type": "code",
   "execution_count": null,
   "id": "b0293484",
   "metadata": {},
   "outputs": [],
   "source": [
    "accuracy_score(y_test, pred)"
   ]
  },
  {
   "cell_type": "code",
   "execution_count": null,
   "id": "82a6bb08",
   "metadata": {},
   "outputs": [],
   "source": [
    "confusion_matrix(y_test, pred)"
   ]
  },
  {
   "cell_type": "markdown",
   "id": "7e25fbe3",
   "metadata": {},
   "source": [
    "## Decision Tree Classifier"
   ]
  },
  {
   "cell_type": "code",
   "execution_count": null,
   "id": "76dca0c4",
   "metadata": {},
   "outputs": [],
   "source": [
    "model = DecisionTreeClassifier()\n",
    "model.fit(X_train, y_train)\n",
    "pred= model.predict(X_test)"
   ]
  },
  {
   "cell_type": "code",
   "execution_count": null,
   "id": "a7ddcbad",
   "metadata": {},
   "outputs": [],
   "source": [
    "accuracy_score(y_test, pred)"
   ]
  },
  {
   "cell_type": "code",
   "execution_count": null,
   "id": "b2cf1c59",
   "metadata": {},
   "outputs": [],
   "source": [
    "confusion_matrix(y_test, pred)"
   ]
  },
  {
   "cell_type": "markdown",
   "id": "62679c7a",
   "metadata": {},
   "source": [
    "## RandomForest Classifier"
   ]
  },
  {
   "cell_type": "code",
   "execution_count": null,
   "id": "c32bbcf4",
   "metadata": {},
   "outputs": [],
   "source": [
    "model = RandomForestClassifier()\n",
    "model.fit(X_train, y_train)\n",
    "pred= model.predict(X_test)"
   ]
  },
  {
   "cell_type": "code",
   "execution_count": null,
   "id": "6a8470ce",
   "metadata": {},
   "outputs": [],
   "source": [
    "accuracy_score(y_test, pred)"
   ]
  },
  {
   "cell_type": "code",
   "execution_count": null,
   "id": "830a4750",
   "metadata": {},
   "outputs": [],
   "source": [
    "confusion_matrix(y_test, pred)"
   ]
  },
  {
   "cell_type": "code",
   "execution_count": null,
   "id": "b76f1bbc",
   "metadata": {},
   "outputs": [],
   "source": []
  },
  {
   "cell_type": "code",
   "execution_count": null,
   "id": "14e2019d",
   "metadata": {},
   "outputs": [],
   "source": []
  }
 ],
 "metadata": {
  "kernelspec": {
   "display_name": "Python 3 (ipykernel)",
   "language": "python",
   "name": "python3"
  },
  "language_info": {
   "codemirror_mode": {
    "name": "ipython",
    "version": 3
   },
   "file_extension": ".py",
   "mimetype": "text/x-python",
   "name": "python",
   "nbconvert_exporter": "python",
   "pygments_lexer": "ipython3",
   "version": "3.9.12"
  }
 },
 "nbformat": 4,
 "nbformat_minor": 5
}
